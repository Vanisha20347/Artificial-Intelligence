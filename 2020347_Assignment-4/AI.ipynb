{
  "nbformat": 4,
  "nbformat_minor": 0,
  "metadata": {
    "colab": {
      "provenance": []
    },
    "kernelspec": {
      "name": "python3",
      "display_name": "Python 3"
    },
    "language_info": {
      "name": "python"
    }
  },
  "cells": [
    {
      "cell_type": "code",
      "execution_count": null,
      "metadata": {
        "id": "yJGwaGEG9jdW"
      },
      "outputs": [],
      "source": [
        "from google.colab import files\n",
        "import pandas as pd\n",
        "import io\n",
        "from sklearn.model_selection import train_test_split\n",
        "from sklearn.preprocessing import OneHotEncoder\n",
        "from sklearn.neural_network import MLPClassifier\n",
        "from sklearn.metrics import accuracy_score\n",
        "from sklearn.metrics import confusion_matrix, classification_report\n",
        "from sklearn.preprocessing import StandardScaler\n",
        "from sklearn import preprocessing\n",
        "import seaborn as sns\n",
        "import matplotlib.pyplot as plt"
      ]
    },
    {
      "cell_type": "code",
      "source": [
        "uploaded = files.upload()"
      ],
      "metadata": {
        "colab": {
          "base_uri": "https://localhost:8080/",
          "height": 74
        },
        "id": "Wdpk4Sa59sH_",
        "outputId": "280d8f99-4e31-4b79-b6f5-9be4c3c9ee80"
      },
      "execution_count": null,
      "outputs": [
        {
          "output_type": "display_data",
          "data": {
            "text/plain": [
              "<IPython.core.display.HTML object>"
            ],
            "text/html": [
              "\n",
              "     <input type=\"file\" id=\"files-d4641c8b-76cf-4f18-9c0c-1aed18a3705e\" name=\"files[]\" multiple disabled\n",
              "        style=\"border:none\" />\n",
              "     <output id=\"result-d4641c8b-76cf-4f18-9c0c-1aed18a3705e\">\n",
              "      Upload widget is only available when the cell has been executed in the\n",
              "      current browser session. Please rerun this cell to enable.\n",
              "      </output>\n",
              "      <script>// Copyright 2017 Google LLC\n",
              "//\n",
              "// Licensed under the Apache License, Version 2.0 (the \"License\");\n",
              "// you may not use this file except in compliance with the License.\n",
              "// You may obtain a copy of the License at\n",
              "//\n",
              "//      http://www.apache.org/licenses/LICENSE-2.0\n",
              "//\n",
              "// Unless required by applicable law or agreed to in writing, software\n",
              "// distributed under the License is distributed on an \"AS IS\" BASIS,\n",
              "// WITHOUT WARRANTIES OR CONDITIONS OF ANY KIND, either express or implied.\n",
              "// See the License for the specific language governing permissions and\n",
              "// limitations under the License.\n",
              "\n",
              "/**\n",
              " * @fileoverview Helpers for google.colab Python module.\n",
              " */\n",
              "(function(scope) {\n",
              "function span(text, styleAttributes = {}) {\n",
              "  const element = document.createElement('span');\n",
              "  element.textContent = text;\n",
              "  for (const key of Object.keys(styleAttributes)) {\n",
              "    element.style[key] = styleAttributes[key];\n",
              "  }\n",
              "  return element;\n",
              "}\n",
              "\n",
              "// Max number of bytes which will be uploaded at a time.\n",
              "const MAX_PAYLOAD_SIZE = 100 * 1024;\n",
              "\n",
              "function _uploadFiles(inputId, outputId) {\n",
              "  const steps = uploadFilesStep(inputId, outputId);\n",
              "  const outputElement = document.getElementById(outputId);\n",
              "  // Cache steps on the outputElement to make it available for the next call\n",
              "  // to uploadFilesContinue from Python.\n",
              "  outputElement.steps = steps;\n",
              "\n",
              "  return _uploadFilesContinue(outputId);\n",
              "}\n",
              "\n",
              "// This is roughly an async generator (not supported in the browser yet),\n",
              "// where there are multiple asynchronous steps and the Python side is going\n",
              "// to poll for completion of each step.\n",
              "// This uses a Promise to block the python side on completion of each step,\n",
              "// then passes the result of the previous step as the input to the next step.\n",
              "function _uploadFilesContinue(outputId) {\n",
              "  const outputElement = document.getElementById(outputId);\n",
              "  const steps = outputElement.steps;\n",
              "\n",
              "  const next = steps.next(outputElement.lastPromiseValue);\n",
              "  return Promise.resolve(next.value.promise).then((value) => {\n",
              "    // Cache the last promise value to make it available to the next\n",
              "    // step of the generator.\n",
              "    outputElement.lastPromiseValue = value;\n",
              "    return next.value.response;\n",
              "  });\n",
              "}\n",
              "\n",
              "/**\n",
              " * Generator function which is called between each async step of the upload\n",
              " * process.\n",
              " * @param {string} inputId Element ID of the input file picker element.\n",
              " * @param {string} outputId Element ID of the output display.\n",
              " * @return {!Iterable<!Object>} Iterable of next steps.\n",
              " */\n",
              "function* uploadFilesStep(inputId, outputId) {\n",
              "  const inputElement = document.getElementById(inputId);\n",
              "  inputElement.disabled = false;\n",
              "\n",
              "  const outputElement = document.getElementById(outputId);\n",
              "  outputElement.innerHTML = '';\n",
              "\n",
              "  const pickedPromise = new Promise((resolve) => {\n",
              "    inputElement.addEventListener('change', (e) => {\n",
              "      resolve(e.target.files);\n",
              "    });\n",
              "  });\n",
              "\n",
              "  const cancel = document.createElement('button');\n",
              "  inputElement.parentElement.appendChild(cancel);\n",
              "  cancel.textContent = 'Cancel upload';\n",
              "  const cancelPromise = new Promise((resolve) => {\n",
              "    cancel.onclick = () => {\n",
              "      resolve(null);\n",
              "    };\n",
              "  });\n",
              "\n",
              "  // Wait for the user to pick the files.\n",
              "  const files = yield {\n",
              "    promise: Promise.race([pickedPromise, cancelPromise]),\n",
              "    response: {\n",
              "      action: 'starting',\n",
              "    }\n",
              "  };\n",
              "\n",
              "  cancel.remove();\n",
              "\n",
              "  // Disable the input element since further picks are not allowed.\n",
              "  inputElement.disabled = true;\n",
              "\n",
              "  if (!files) {\n",
              "    return {\n",
              "      response: {\n",
              "        action: 'complete',\n",
              "      }\n",
              "    };\n",
              "  }\n",
              "\n",
              "  for (const file of files) {\n",
              "    const li = document.createElement('li');\n",
              "    li.append(span(file.name, {fontWeight: 'bold'}));\n",
              "    li.append(span(\n",
              "        `(${file.type || 'n/a'}) - ${file.size} bytes, ` +\n",
              "        `last modified: ${\n",
              "            file.lastModifiedDate ? file.lastModifiedDate.toLocaleDateString() :\n",
              "                                    'n/a'} - `));\n",
              "    const percent = span('0% done');\n",
              "    li.appendChild(percent);\n",
              "\n",
              "    outputElement.appendChild(li);\n",
              "\n",
              "    const fileDataPromise = new Promise((resolve) => {\n",
              "      const reader = new FileReader();\n",
              "      reader.onload = (e) => {\n",
              "        resolve(e.target.result);\n",
              "      };\n",
              "      reader.readAsArrayBuffer(file);\n",
              "    });\n",
              "    // Wait for the data to be ready.\n",
              "    let fileData = yield {\n",
              "      promise: fileDataPromise,\n",
              "      response: {\n",
              "        action: 'continue',\n",
              "      }\n",
              "    };\n",
              "\n",
              "    // Use a chunked sending to avoid message size limits. See b/62115660.\n",
              "    let position = 0;\n",
              "    do {\n",
              "      const length = Math.min(fileData.byteLength - position, MAX_PAYLOAD_SIZE);\n",
              "      const chunk = new Uint8Array(fileData, position, length);\n",
              "      position += length;\n",
              "\n",
              "      const base64 = btoa(String.fromCharCode.apply(null, chunk));\n",
              "      yield {\n",
              "        response: {\n",
              "          action: 'append',\n",
              "          file: file.name,\n",
              "          data: base64,\n",
              "        },\n",
              "      };\n",
              "\n",
              "      let percentDone = fileData.byteLength === 0 ?\n",
              "          100 :\n",
              "          Math.round((position / fileData.byteLength) * 100);\n",
              "      percent.textContent = `${percentDone}% done`;\n",
              "\n",
              "    } while (position < fileData.byteLength);\n",
              "  }\n",
              "\n",
              "  // All done.\n",
              "  yield {\n",
              "    response: {\n",
              "      action: 'complete',\n",
              "    }\n",
              "  };\n",
              "}\n",
              "\n",
              "scope.google = scope.google || {};\n",
              "scope.google.colab = scope.google.colab || {};\n",
              "scope.google.colab._files = {\n",
              "  _uploadFiles,\n",
              "  _uploadFilesContinue,\n",
              "};\n",
              "})(self);\n",
              "</script> "
            ]
          },
          "metadata": {}
        },
        {
          "output_type": "stream",
          "name": "stdout",
          "text": [
            "Saving roo_data.csv to roo_data.csv\n"
          ]
        }
      ]
    },
    {
      "cell_type": "code",
      "source": [
        "df = pd.read_csv(io.BytesIO(uploaded['roo_data.csv']))"
      ],
      "metadata": {
        "id": "QNAux9Jz9tK8"
      },
      "execution_count": null,
      "outputs": []
    },
    {
      "cell_type": "code",
      "source": [
        "df.head()"
      ],
      "metadata": {
        "colab": {
          "base_uri": "https://localhost:8080/",
          "height": 490
        },
        "id": "goxknAA49xae",
        "outputId": "514a56ac-b1e8-4869-fb68-38839bbd32f7"
      },
      "execution_count": null,
      "outputs": [
        {
          "output_type": "execute_result",
          "data": {
            "text/plain": [
              "   Acedamic percentage in Operating Systems  percentage in Algorithms  \\\n",
              "0                                        69                        63   \n",
              "1                                        78                        62   \n",
              "2                                        71                        86   \n",
              "3                                        76                        87   \n",
              "4                                        92                        62   \n",
              "\n",
              "   Percentage in Programming Concepts  Percentage in Software Engineering  \\\n",
              "0                                  78                                  87   \n",
              "1                                  73                                  60   \n",
              "2                                  91                                  87   \n",
              "3                                  60                                  84   \n",
              "4                                  90                                  67   \n",
              "\n",
              "   Percentage in Computer Networks  Percentage in Electronics Subjects  \\\n",
              "0                               94                                  94   \n",
              "1                               71                                  70   \n",
              "2                               61                                  81   \n",
              "3                               89                                  73   \n",
              "4                               71                                  89   \n",
              "\n",
              "   Percentage in Computer Architecture  Percentage in Mathematics  \\\n",
              "0                                   87                         84   \n",
              "1                                   73                         84   \n",
              "2                                   72                         72   \n",
              "3                                   62                         88   \n",
              "4                                   73                         71   \n",
              "\n",
              "   Percentage in Communication skills  Hours working per day  ...  \\\n",
              "0                                  61                      9  ...   \n",
              "1                                  91                     12  ...   \n",
              "2                                  94                     11  ...   \n",
              "3                                  69                      7  ...   \n",
              "4                                  73                      4  ...   \n",
              "\n",
              "   Interested Type of Books  Salary Range Expected  In a Realtionship?  \\\n",
              "0              Prayer books                 salary                  no   \n",
              "1                 Childrens                 salary                 yes   \n",
              "2                    Travel                   Work                  no   \n",
              "3                   Romance                   Work                 yes   \n",
              "4                 Cookbooks                 salary                  no   \n",
              "\n",
              "   Gentle or Tuff behaviour? Management or Technical Salary/work  \\\n",
              "0                   stubborn              Management      salary   \n",
              "1                     gentle               Technical      salary   \n",
              "2                   stubborn              Management        work   \n",
              "3                     gentle              Management        work   \n",
              "4                   stubborn              Management        work   \n",
              "\n",
              "  hard/smart worker worked in teams ever? Introvert  \\\n",
              "0       hard worker                   yes        no   \n",
              "1       hard worker                    no       yes   \n",
              "2       hard worker                    no       yes   \n",
              "3      smart worker                   yes       yes   \n",
              "4       hard worker                   yes       yes   \n",
              "\n",
              "               Suggested Job Role  \n",
              "0              Database Developer  \n",
              "1            Portal Administrator  \n",
              "2            Portal Administrator  \n",
              "3  Systems Security Administrator  \n",
              "4        Business Systems Analyst  \n",
              "\n",
              "[5 rows x 39 columns]"
            ],
            "text/html": [
              "\n",
              "  <div id=\"df-2c43cff8-c0fd-4958-bd46-ba2f3b21bf6c\">\n",
              "    <div class=\"colab-df-container\">\n",
              "      <div>\n",
              "<style scoped>\n",
              "    .dataframe tbody tr th:only-of-type {\n",
              "        vertical-align: middle;\n",
              "    }\n",
              "\n",
              "    .dataframe tbody tr th {\n",
              "        vertical-align: top;\n",
              "    }\n",
              "\n",
              "    .dataframe thead th {\n",
              "        text-align: right;\n",
              "    }\n",
              "</style>\n",
              "<table border=\"1\" class=\"dataframe\">\n",
              "  <thead>\n",
              "    <tr style=\"text-align: right;\">\n",
              "      <th></th>\n",
              "      <th>Acedamic percentage in Operating Systems</th>\n",
              "      <th>percentage in Algorithms</th>\n",
              "      <th>Percentage in Programming Concepts</th>\n",
              "      <th>Percentage in Software Engineering</th>\n",
              "      <th>Percentage in Computer Networks</th>\n",
              "      <th>Percentage in Electronics Subjects</th>\n",
              "      <th>Percentage in Computer Architecture</th>\n",
              "      <th>Percentage in Mathematics</th>\n",
              "      <th>Percentage in Communication skills</th>\n",
              "      <th>Hours working per day</th>\n",
              "      <th>...</th>\n",
              "      <th>Interested Type of Books</th>\n",
              "      <th>Salary Range Expected</th>\n",
              "      <th>In a Realtionship?</th>\n",
              "      <th>Gentle or Tuff behaviour?</th>\n",
              "      <th>Management or Technical</th>\n",
              "      <th>Salary/work</th>\n",
              "      <th>hard/smart worker</th>\n",
              "      <th>worked in teams ever?</th>\n",
              "      <th>Introvert</th>\n",
              "      <th>Suggested Job Role</th>\n",
              "    </tr>\n",
              "  </thead>\n",
              "  <tbody>\n",
              "    <tr>\n",
              "      <th>0</th>\n",
              "      <td>69</td>\n",
              "      <td>63</td>\n",
              "      <td>78</td>\n",
              "      <td>87</td>\n",
              "      <td>94</td>\n",
              "      <td>94</td>\n",
              "      <td>87</td>\n",
              "      <td>84</td>\n",
              "      <td>61</td>\n",
              "      <td>9</td>\n",
              "      <td>...</td>\n",
              "      <td>Prayer books</td>\n",
              "      <td>salary</td>\n",
              "      <td>no</td>\n",
              "      <td>stubborn</td>\n",
              "      <td>Management</td>\n",
              "      <td>salary</td>\n",
              "      <td>hard worker</td>\n",
              "      <td>yes</td>\n",
              "      <td>no</td>\n",
              "      <td>Database Developer</td>\n",
              "    </tr>\n",
              "    <tr>\n",
              "      <th>1</th>\n",
              "      <td>78</td>\n",
              "      <td>62</td>\n",
              "      <td>73</td>\n",
              "      <td>60</td>\n",
              "      <td>71</td>\n",
              "      <td>70</td>\n",
              "      <td>73</td>\n",
              "      <td>84</td>\n",
              "      <td>91</td>\n",
              "      <td>12</td>\n",
              "      <td>...</td>\n",
              "      <td>Childrens</td>\n",
              "      <td>salary</td>\n",
              "      <td>yes</td>\n",
              "      <td>gentle</td>\n",
              "      <td>Technical</td>\n",
              "      <td>salary</td>\n",
              "      <td>hard worker</td>\n",
              "      <td>no</td>\n",
              "      <td>yes</td>\n",
              "      <td>Portal Administrator</td>\n",
              "    </tr>\n",
              "    <tr>\n",
              "      <th>2</th>\n",
              "      <td>71</td>\n",
              "      <td>86</td>\n",
              "      <td>91</td>\n",
              "      <td>87</td>\n",
              "      <td>61</td>\n",
              "      <td>81</td>\n",
              "      <td>72</td>\n",
              "      <td>72</td>\n",
              "      <td>94</td>\n",
              "      <td>11</td>\n",
              "      <td>...</td>\n",
              "      <td>Travel</td>\n",
              "      <td>Work</td>\n",
              "      <td>no</td>\n",
              "      <td>stubborn</td>\n",
              "      <td>Management</td>\n",
              "      <td>work</td>\n",
              "      <td>hard worker</td>\n",
              "      <td>no</td>\n",
              "      <td>yes</td>\n",
              "      <td>Portal Administrator</td>\n",
              "    </tr>\n",
              "    <tr>\n",
              "      <th>3</th>\n",
              "      <td>76</td>\n",
              "      <td>87</td>\n",
              "      <td>60</td>\n",
              "      <td>84</td>\n",
              "      <td>89</td>\n",
              "      <td>73</td>\n",
              "      <td>62</td>\n",
              "      <td>88</td>\n",
              "      <td>69</td>\n",
              "      <td>7</td>\n",
              "      <td>...</td>\n",
              "      <td>Romance</td>\n",
              "      <td>Work</td>\n",
              "      <td>yes</td>\n",
              "      <td>gentle</td>\n",
              "      <td>Management</td>\n",
              "      <td>work</td>\n",
              "      <td>smart worker</td>\n",
              "      <td>yes</td>\n",
              "      <td>yes</td>\n",
              "      <td>Systems Security Administrator</td>\n",
              "    </tr>\n",
              "    <tr>\n",
              "      <th>4</th>\n",
              "      <td>92</td>\n",
              "      <td>62</td>\n",
              "      <td>90</td>\n",
              "      <td>67</td>\n",
              "      <td>71</td>\n",
              "      <td>89</td>\n",
              "      <td>73</td>\n",
              "      <td>71</td>\n",
              "      <td>73</td>\n",
              "      <td>4</td>\n",
              "      <td>...</td>\n",
              "      <td>Cookbooks</td>\n",
              "      <td>salary</td>\n",
              "      <td>no</td>\n",
              "      <td>stubborn</td>\n",
              "      <td>Management</td>\n",
              "      <td>work</td>\n",
              "      <td>hard worker</td>\n",
              "      <td>yes</td>\n",
              "      <td>yes</td>\n",
              "      <td>Business Systems Analyst</td>\n",
              "    </tr>\n",
              "  </tbody>\n",
              "</table>\n",
              "<p>5 rows × 39 columns</p>\n",
              "</div>\n",
              "      <button class=\"colab-df-convert\" onclick=\"convertToInteractive('df-2c43cff8-c0fd-4958-bd46-ba2f3b21bf6c')\"\n",
              "              title=\"Convert this dataframe to an interactive table.\"\n",
              "              style=\"display:none;\">\n",
              "        \n",
              "  <svg xmlns=\"http://www.w3.org/2000/svg\" height=\"24px\"viewBox=\"0 0 24 24\"\n",
              "       width=\"24px\">\n",
              "    <path d=\"M0 0h24v24H0V0z\" fill=\"none\"/>\n",
              "    <path d=\"M18.56 5.44l.94 2.06.94-2.06 2.06-.94-2.06-.94-.94-2.06-.94 2.06-2.06.94zm-11 1L8.5 8.5l.94-2.06 2.06-.94-2.06-.94L8.5 2.5l-.94 2.06-2.06.94zm10 10l.94 2.06.94-2.06 2.06-.94-2.06-.94-.94-2.06-.94 2.06-2.06.94z\"/><path d=\"M17.41 7.96l-1.37-1.37c-.4-.4-.92-.59-1.43-.59-.52 0-1.04.2-1.43.59L10.3 9.45l-7.72 7.72c-.78.78-.78 2.05 0 2.83L4 21.41c.39.39.9.59 1.41.59.51 0 1.02-.2 1.41-.59l7.78-7.78 2.81-2.81c.8-.78.8-2.07 0-2.86zM5.41 20L4 18.59l7.72-7.72 1.47 1.35L5.41 20z\"/>\n",
              "  </svg>\n",
              "      </button>\n",
              "      \n",
              "  <style>\n",
              "    .colab-df-container {\n",
              "      display:flex;\n",
              "      flex-wrap:wrap;\n",
              "      gap: 12px;\n",
              "    }\n",
              "\n",
              "    .colab-df-convert {\n",
              "      background-color: #E8F0FE;\n",
              "      border: none;\n",
              "      border-radius: 50%;\n",
              "      cursor: pointer;\n",
              "      display: none;\n",
              "      fill: #1967D2;\n",
              "      height: 32px;\n",
              "      padding: 0 0 0 0;\n",
              "      width: 32px;\n",
              "    }\n",
              "\n",
              "    .colab-df-convert:hover {\n",
              "      background-color: #E2EBFA;\n",
              "      box-shadow: 0px 1px 2px rgba(60, 64, 67, 0.3), 0px 1px 3px 1px rgba(60, 64, 67, 0.15);\n",
              "      fill: #174EA6;\n",
              "    }\n",
              "\n",
              "    [theme=dark] .colab-df-convert {\n",
              "      background-color: #3B4455;\n",
              "      fill: #D2E3FC;\n",
              "    }\n",
              "\n",
              "    [theme=dark] .colab-df-convert:hover {\n",
              "      background-color: #434B5C;\n",
              "      box-shadow: 0px 1px 3px 1px rgba(0, 0, 0, 0.15);\n",
              "      filter: drop-shadow(0px 1px 2px rgba(0, 0, 0, 0.3));\n",
              "      fill: #FFFFFF;\n",
              "    }\n",
              "  </style>\n",
              "\n",
              "      <script>\n",
              "        const buttonEl =\n",
              "          document.querySelector('#df-2c43cff8-c0fd-4958-bd46-ba2f3b21bf6c button.colab-df-convert');\n",
              "        buttonEl.style.display =\n",
              "          google.colab.kernel.accessAllowed ? 'block' : 'none';\n",
              "\n",
              "        async function convertToInteractive(key) {\n",
              "          const element = document.querySelector('#df-2c43cff8-c0fd-4958-bd46-ba2f3b21bf6c');\n",
              "          const dataTable =\n",
              "            await google.colab.kernel.invokeFunction('convertToInteractive',\n",
              "                                                     [key], {});\n",
              "          if (!dataTable) return;\n",
              "\n",
              "          const docLinkHtml = 'Like what you see? Visit the ' +\n",
              "            '<a target=\"_blank\" href=https://colab.research.google.com/notebooks/data_table.ipynb>data table notebook</a>'\n",
              "            + ' to learn more about interactive tables.';\n",
              "          element.innerHTML = '';\n",
              "          dataTable['output_type'] = 'display_data';\n",
              "          await google.colab.output.renderOutput(dataTable, element);\n",
              "          const docLink = document.createElement('div');\n",
              "          docLink.innerHTML = docLinkHtml;\n",
              "          element.appendChild(docLink);\n",
              "        }\n",
              "      </script>\n",
              "    </div>\n",
              "  </div>\n",
              "  "
            ]
          },
          "metadata": {},
          "execution_count": 37
        }
      ]
    },
    {
      "cell_type": "code",
      "source": [
        "df.columns"
      ],
      "metadata": {
        "colab": {
          "base_uri": "https://localhost:8080/"
        },
        "id": "JSM8885s-Oby",
        "outputId": "8d17e5fe-3f23-48e7-c110-d8b7f3436558"
      },
      "execution_count": null,
      "outputs": [
        {
          "output_type": "execute_result",
          "data": {
            "text/plain": [
              "Index(['Acedamic percentage in Operating Systems', 'percentage in Algorithms',\n",
              "       'Percentage in Programming Concepts',\n",
              "       'Percentage in Software Engineering', 'Percentage in Computer Networks',\n",
              "       'Percentage in Electronics Subjects',\n",
              "       'Percentage in Computer Architecture', 'Percentage in Mathematics',\n",
              "       'Percentage in Communication skills', 'Hours working per day',\n",
              "       'Logical quotient rating', 'hackathons', 'coding skills rating',\n",
              "       'public speaking points', 'can work long time before system?',\n",
              "       'self-learning capability?', 'Extra-courses did', 'certifications',\n",
              "       'workshops', 'talenttests taken?', 'olympiads',\n",
              "       'reading and writing skills', 'memory capability score',\n",
              "       'Interested subjects', 'interested career area ', 'Job/Higher Studies?',\n",
              "       'Type of company want to settle in?',\n",
              "       'Taken inputs from seniors or elders', 'interested in games',\n",
              "       'Interested Type of Books', 'Salary Range Expected',\n",
              "       'In a Realtionship?', 'Gentle or Tuff behaviour?',\n",
              "       'Management or Technical', 'Salary/work', 'hard/smart worker',\n",
              "       'worked in teams ever?', 'Introvert', 'Suggested Job Role'],\n",
              "      dtype='object')"
            ]
          },
          "metadata": {},
          "execution_count": 80
        }
      ]
    },
    {
      "cell_type": "code",
      "source": [
        "print(df.info())"
      ],
      "metadata": {
        "colab": {
          "base_uri": "https://localhost:8080/"
        },
        "id": "XAYwQDqCBHnk",
        "outputId": "3c0252d0-b784-4fee-8c4f-91211b88b912"
      },
      "execution_count": null,
      "outputs": [
        {
          "output_type": "stream",
          "name": "stdout",
          "text": [
            "<class 'pandas.core.frame.DataFrame'>\n",
            "RangeIndex: 20000 entries, 0 to 19999\n",
            "Data columns (total 39 columns):\n",
            " #   Column                                    Non-Null Count  Dtype \n",
            "---  ------                                    --------------  ----- \n",
            " 0   Acedamic percentage in Operating Systems  20000 non-null  int64 \n",
            " 1   percentage in Algorithms                  20000 non-null  int64 \n",
            " 2   Percentage in Programming Concepts        20000 non-null  int64 \n",
            " 3   Percentage in Software Engineering        20000 non-null  int64 \n",
            " 4   Percentage in Computer Networks           20000 non-null  int64 \n",
            " 5   Percentage in Electronics Subjects        20000 non-null  int64 \n",
            " 6   Percentage in Computer Architecture       20000 non-null  int64 \n",
            " 7   Percentage in Mathematics                 20000 non-null  int64 \n",
            " 8   Percentage in Communication skills        20000 non-null  int64 \n",
            " 9   Hours working per day                     20000 non-null  int64 \n",
            " 10  Logical quotient rating                   20000 non-null  int64 \n",
            " 11  hackathons                                20000 non-null  int64 \n",
            " 12  coding skills rating                      20000 non-null  int64 \n",
            " 13  public speaking points                    20000 non-null  int64 \n",
            " 14  can work long time before system?         20000 non-null  object\n",
            " 15  self-learning capability?                 20000 non-null  object\n",
            " 16  Extra-courses did                         20000 non-null  object\n",
            " 17  certifications                            20000 non-null  object\n",
            " 18  workshops                                 20000 non-null  object\n",
            " 19  talenttests taken?                        20000 non-null  object\n",
            " 20  olympiads                                 20000 non-null  object\n",
            " 21  reading and writing skills                20000 non-null  object\n",
            " 22  memory capability score                   20000 non-null  object\n",
            " 23  Interested subjects                       20000 non-null  object\n",
            " 24  interested career area                    20000 non-null  object\n",
            " 25  Job/Higher Studies?                       20000 non-null  object\n",
            " 26  Type of company want to settle in?        20000 non-null  object\n",
            " 27  Taken inputs from seniors or elders       20000 non-null  object\n",
            " 28  interested in games                       20000 non-null  object\n",
            " 29  Interested Type of Books                  20000 non-null  object\n",
            " 30  Salary Range Expected                     20000 non-null  object\n",
            " 31  In a Realtionship?                        20000 non-null  object\n",
            " 32  Gentle or Tuff behaviour?                 20000 non-null  object\n",
            " 33  Management or Technical                   20000 non-null  object\n",
            " 34  Salary/work                               20000 non-null  object\n",
            " 35  hard/smart worker                         20000 non-null  object\n",
            " 36  worked in teams ever?                     20000 non-null  object\n",
            " 37  Introvert                                 20000 non-null  object\n",
            " 38  Suggested Job Role                        20000 non-null  object\n",
            "dtypes: int64(14), object(25)\n",
            "memory usage: 6.0+ MB\n",
            "None\n"
          ]
        }
      ]
    },
    {
      "cell_type": "code",
      "source": [
        "X = df.iloc[:,:-1]\n",
        "Y = df.iloc[:,-1]"
      ],
      "metadata": {
        "id": "BRvCohO5-hqH"
      },
      "execution_count": null,
      "outputs": []
    },
    {
      "cell_type": "code",
      "source": [
        "chart = sns.countplot(x=Y)\n",
        "chart.set_xticklabels(chart.get_xticklabels(),rotation=90)\n",
        "plt.show()"
      ],
      "metadata": {
        "colab": {
          "base_uri": "https://localhost:8080/",
          "height": 483
        },
        "id": "b91AcXvZDAfw",
        "outputId": "9580b87a-131c-4700-e111-75e105c546d6"
      },
      "execution_count": null,
      "outputs": [
        {
          "output_type": "display_data",
          "data": {
            "text/plain": [
              "<Figure size 432x288 with 1 Axes>"
            ],
            "image/png": "[encoded data removed]"
          },
          "metadata": {
            "needs_background": "light"
          }
        }
      ]
    },
    {
      "cell_type": "code",
      "source": [
        "X_new = OneHotEncoder().fit_transform(X)"
      ],
      "metadata": {
        "id": "PIBG7-dB97fD"
      },
      "execution_count": null,
      "outputs": []
    },
    {
      "cell_type": "code",
      "source": [
        "Y_new = Y.copy(deep=True)"
      ],
      "metadata": {
        "id": "HJnztS7N-qQQ"
      },
      "execution_count": null,
      "outputs": []
    },
    {
      "cell_type": "code",
      "source": [
        "X11train, X11test, Y11train, Y11test = train_test_split(X_new,Y_new,test_size=0.2)"
      ],
      "metadata": {
        "id": "ZtG63vf8-8Fn"
      },
      "execution_count": null,
      "outputs": []
    },
    {
      "cell_type": "code",
      "source": [
        "m11 = MLPClassifier(max_iter = 300,random_state=1).fit(X11train,Y11train) "
      ],
      "metadata": {
        "id": "8kYdSvSx_J48"
      },
      "execution_count": null,
      "outputs": []
    },
    {
      "cell_type": "code",
      "source": [
        "a11 = accuracy_score(m11.predict(X11test),Y11test)\n",
        "print(\"Accuracy (at testing size = 0.2)\")\n",
        "print(a11)"
      ],
      "metadata": {
        "colab": {
          "base_uri": "https://localhost:8080/"
        },
        "id": "vQCU65y1_bgR",
        "outputId": "a9a19368-e630-41df-f674-f936d28643ff"
      },
      "execution_count": null,
      "outputs": [
        {
          "output_type": "stream",
          "name": "stdout",
          "text": [
            "Accuracy (at testing size = 0.2)\n",
            "0.02825\n"
          ]
        }
      ]
    },
    {
      "cell_type": "code",
      "source": [
        "cm11train = confusion_matrix(m11.predict(X11train),Y11train)\n",
        "cm11test = confusion_matrix(m11.predict(X11test),Y11test)"
      ],
      "metadata": {
        "id": "onuaOJgO_j5B"
      },
      "execution_count": null,
      "outputs": []
    },
    {
      "cell_type": "code",
      "source": [
        "print(\"Train confusion matrix\")\n",
        "print(cm11train)\n",
        "print(\"Test confusion matrix\")\n",
        "print(cm11test)\n",
        "print(\"Train classwise accuracies\")\n",
        "print(cm11train.diagonal()/cm11train.sum(axis=1))\n",
        "print(\"Test classwise accuracies\")\n",
        "print(cm11test.diagonal()/cm11test.sum(axis=1))"
      ],
      "metadata": {
        "colab": {
          "base_uri": "https://localhost:8080/"
        },
        "id": "JVuRTDFvAT4Y",
        "outputId": "44e27584-5054-495a-d12d-97558cd51321"
      },
      "execution_count": null,
      "outputs": [
        {
          "output_type": "stream",
          "name": "stdout",
          "text": [
            "Train confusion matrix\n",
            "[[413   3   2 ...   1   0   0]\n",
            " [  2 365   2 ...   0   1   2]\n",
            " [  1   1 420 ...   1   1   1]\n",
            " ...\n",
            " [  0   0   1 ... 443   0   0]\n",
            " [  0   0   1 ...   1 440   0]\n",
            " [  0   0   1 ...   1   0 442]]\n",
            "Test confusion matrix\n",
            "[[2 6 1 ... 6 4 4]\n",
            " [1 3 1 ... 1 0 3]\n",
            " [4 4 5 ... 2 3 2]\n",
            " ...\n",
            " [4 4 1 ... 2 2 3]\n",
            " [3 8 5 ... 0 4 4]\n",
            " [4 8 1 ... 2 6 1]]\n",
            "Train classwise accuracies\n",
            "[0.93863636 0.86698337 0.95238095 0.88402626 0.95754717 0.9228972\n",
            " 0.90562249 0.90946502 0.9202454  0.92244898 0.93506494 0.93580247\n",
            " 0.91569087 0.93361884 0.89838337 0.91047619 0.95762712 0.92485549\n",
            " 0.91125541 0.91954023 0.95051546 0.97991071 0.93541203 0.91507431\n",
            " 0.89098532 0.89324619 0.93981481 0.95794393 0.9279476  0.94117647\n",
            " 0.94061758 0.9800885  0.93418259 0.93842887]\n",
            "Test classwise accuracies\n",
            "[0.01904762 0.03125    0.04132231 0.03191489 0.02272727 0.02608696\n",
            " 0.02521008 0.04201681 0.02158273 0.01010101 0.02678571 0.03508772\n",
            " 0.05154639 0.04424779 0.02608696 0.05882353 0.04280156 0.02702703\n",
            " 0.03030303 0.01639344 0.03225806 0.01666667 0.03278689 0.03418803\n",
            " 0.01834862 0.04504505 0.02678571 0.         0.00909091 0.01098901\n",
            " 0.01724138 0.01492537 0.032      0.00840336]\n"
          ]
        }
      ]
    },
    {
      "cell_type": "code",
      "source": [
        "m11.predict(X11test)"
      ],
      "metadata": {
        "colab": {
          "base_uri": "https://localhost:8080/"
        },
        "id": "SkNGej2MBYI1",
        "outputId": "32afbf28-846b-46f9-d09e-4745e62b53ac"
      },
      "execution_count": null,
      "outputs": [
        {
          "output_type": "execute_result",
          "data": {
            "text/plain": [
              "array(['Project Manager', 'Design & UX', 'Software Engineer', ...,\n",
              "       'Information Technology Manager', 'Network Engineer',\n",
              "       'Project Manager'], dtype='<U41')"
            ]
          },
          "metadata": {},
          "execution_count": 46
        }
      ]
    },
    {
      "cell_type": "code",
      "source": [
        "X12 = StandardScaler(with_mean=False).fit_transform(X_new)\n",
        "Y12 = Y.copy(deep=True)\n",
        "X12train, X12test, Y12train, Y12test = train_test_split(X12,Y12,test_size=0.2)\n",
        "m12 = MLPClassifier(max_iter = 300, random_state=50).fit(X12train,Y12train) \n",
        "a12 = accuracy_score(m12.predict(X12test),Y12test)\n",
        "print(\"Accuracy (after standardisation at testing size = 0.2)\")\n",
        "print(a12)\n",
        "m12.predict(X12test)\n",
        "cm12train = confusion_matrix(m12.predict(X12train),Y12train)\n",
        "cm12test = confusion_matrix(m12.predict(X12test),Y12test)\n",
        "print(\"Train confusion matrix\")\n",
        "print(cm12train)\n",
        "print(\"Test confusion matrix\")\n",
        "print(cm12test)\n",
        "print(\"Train classwise accuracies\")\n",
        "print(cm12train.diagonal()/cm12train.sum(axis=1))\n",
        "print(\"Test classwise accuracies\")\n",
        "print(cm12test.diagonal()/cm12test.sum(axis=1))"
      ],
      "metadata": {
        "colab": {
          "base_uri": "https://localhost:8080/"
        },
        "id": "V6yIy_aTcWXL",
        "outputId": "38eab151-0332-4e5c-a7f5-5fef62b1d344"
      },
      "execution_count": null,
      "outputs": [
        {
          "output_type": "stream",
          "name": "stdout",
          "text": [
            "Accuracy (after standardisation at testing size = 0.2)\n",
            "0.0265\n",
            "Train confusion matrix\n",
            "[[424   0   0 ...   0   0   0]\n",
            " [  0 426   0 ...   0   0   0]\n",
            " [  0   0 476 ...   0   0   0]\n",
            " ...\n",
            " [  0   0   0 ... 449   0   0]\n",
            " [  0   0   0 ...   0 477   0]\n",
            " [  0   0   0 ...   0   0 462]]\n",
            "Test confusion matrix\n",
            "[[2 5 5 ... 2 2 1]\n",
            " [3 2 1 ... 4 2 3]\n",
            " [1 1 5 ... 4 3 7]\n",
            " ...\n",
            " [5 2 4 ... 1 6 3]\n",
            " [1 5 1 ... 2 4 3]\n",
            " [3 3 9 ... 0 5 2]]\n",
            "Train classwise accuracies\n",
            "[1. 1. 1. 1. 1. 1. 1. 1. 1. 1. 1. 1. 1. 1. 1. 1. 1. 1. 1. 1. 1. 1. 1. 1.\n",
            " 1. 1. 1. 1. 1. 1. 1. 1. 1. 1.]\n",
            "Test classwise accuracies\n",
            "[0.02247191 0.01834862 0.04504505 0.01769912 0.02083333 0.01904762\n",
            " 0.02884615 0.04379562 0.03921569 0.00662252 0.03157895 0.\n",
            " 0.02830189 0.01481481 0.00884956 0.03361345 0.07531381 0.02325581\n",
            " 0.03921569 0.03883495 0.04166667 0.06557377 0.00833333 0.01869159\n",
            " 0.00943396 0.02912621 0.01612903 0.01666667 0.         0.016\n",
            " 0.01886792 0.00826446 0.03571429 0.01503759]\n"
          ]
        }
      ]
    },
    {
      "cell_type": "code",
      "source": [
        "X13 = preprocessing.normalize(X_new)\n",
        "Y13 = Y.copy(deep=True)\n",
        "X13train, X13test, Y13train, Y13test = train_test_split(X13,Y13,test_size=0.2)\n",
        "m13 = MLPClassifier(max_iter = 300,random_state=50).fit(X13train,Y13train) \n",
        "a13 = accuracy_score(m13.predict(X13test),Y13test)\n",
        "print(\"Accuracy (after normalisation at testing size = 0.2)\")\n",
        "print(a13)\n",
        "m13.predict(X13test)\n",
        "cm13train = confusion_matrix(m13.predict(X13train),Y13train)\n",
        "cm13test = confusion_matrix(m13.predict(X13test),Y13test)\n",
        "print(\"Train confusion matrix\")\n",
        "print(cm13train)\n",
        "print(\"Test confusion matrix\")\n",
        "print(cm13test)\n",
        "print(\"Train classwise accuracies\")\n",
        "print(cm13train.diagonal()/cm13train.sum(axis=1))\n",
        "print(\"Test classwise accuracies\")\n",
        "print(cm13test.diagonal()/cm13test.sum(axis=1))"
      ],
      "metadata": {
        "colab": {
          "base_uri": "https://localhost:8080/"
        },
        "id": "8wHL6-S1dcBt",
        "outputId": "012627f2-3775-44a0-864b-3f55e436209a"
      },
      "execution_count": null,
      "outputs": [
        {
          "output_type": "stream",
          "name": "stderr",
          "text": [
            "/usr/local/lib/python3.7/dist-packages/sklearn/neural_network/_multilayer_perceptron.py:696: ConvergenceWarning: Stochastic Optimizer: Maximum iterations (200) reached and the optimization hasn't converged yet.\n",
            "  ConvergenceWarning,\n"
          ]
        },
        {
          "output_type": "stream",
          "name": "stdout",
          "text": [
            "Accuracy (after normalisation at testing size = 0.2)\n",
            "0.0255\n",
            "Train confusion matrix\n",
            "[[223   5  12 ...  10   9   6]\n",
            " [  4 201   6 ...   3   7   1]\n",
            " [  8   6 184 ...   7   8   2]\n",
            " ...\n",
            " [  8   4   9 ... 230   5  10]\n",
            " [  3   6   2 ...  10 241  15]\n",
            " [  8  13  11 ...   5   3 261]]\n",
            "Test confusion matrix\n",
            "[[4 5 4 ... 0 1 5]\n",
            " [5 2 4 ... 2 3 3]\n",
            " [3 8 0 ... 1 2 3]\n",
            " ...\n",
            " [4 2 2 ... 3 2 5]\n",
            " [1 1 1 ... 3 3 4]\n",
            " [3 2 5 ... 1 0 1]]\n",
            "Train classwise accuracies\n",
            "[0.55472637 0.52755906 0.4742268  0.4715262  0.60742706 0.54778555\n",
            " 0.49828767 0.58744395 0.48444444 0.53684211 0.4939759  0.54010695\n",
            " 0.56542056 0.63942308 0.5232816  0.49328859 0.57885906 0.52777778\n",
            " 0.54845361 0.46413502 0.61465721 0.63592233 0.55696203 0.56067961\n",
            " 0.55578093 0.53737374 0.61408451 0.53707865 0.55654102 0.54761905\n",
            " 0.61059908 0.50660793 0.51495726 0.58783784]\n",
            "Test classwise accuracies\n",
            "[0.03960396 0.02083333 0.         0.0173913  0.01960784 0.03333333\n",
            " 0.01481481 0.01503759 0.04255319 0.         0.06451613 0.01098901\n",
            " 0.03225806 0.00917431 0.01886792 0.02857143 0.06024096 0.02631579\n",
            " 0.02479339 0.01724138 0.056      0.04958678 0.03875969 0.02\n",
            " 0.         0.01515152 0.01052632 0.00869565 0.01785714 0.02564103\n",
            " 0.00892857 0.03030303 0.02727273 0.00970874]\n"
          ]
        }
      ]
    },
    {
      "cell_type": "code",
      "source": [
        "X21train, X21test, Y21train, Y21test = train_test_split(X_new,Y_new,test_size=0.4)\n",
        "m21 = MLPClassifier(random_state=1).fit(X21train,Y21train) \n",
        "a21 = accuracy_score(m21.predict(X21test),Y21test)\n",
        "print(\"Accuracy (at testing size = 0.4)\")\n",
        "print(a21)\n",
        "m21.predict(X21test)\n",
        "cm21train = confusion_matrix(m21.predict(X21train),Y21train)\n",
        "cm21test = confusion_matrix(m21.predict(X21test),Y21test)\n",
        "print(\"Train confusion matrix\")\n",
        "print(cm21train)\n",
        "print(\"Test confusion matrix\")\n",
        "print(cm21test)\n",
        "print(\"Train classwise accuracies\")\n",
        "print(cm21train.diagonal()/cm21train.sum(axis=1))\n",
        "print(\"Test classwise accuracies\")\n",
        "print(cm21test.diagonal()/cm21test.sum(axis=1))"
      ],
      "metadata": {
        "colab": {
          "base_uri": "https://localhost:8080/"
        },
        "id": "Lr0VbzUkBbst",
        "outputId": "089116ee-6830-42f6-96db-136973b8289a"
      },
      "execution_count": null,
      "outputs": [
        {
          "output_type": "stream",
          "name": "stderr",
          "text": [
            "/usr/local/lib/python3.7/dist-packages/sklearn/neural_network/_multilayer_perceptron.py:696: ConvergenceWarning: Stochastic Optimizer: Maximum iterations (200) reached and the optimization hasn't converged yet.\n",
            "  ConvergenceWarning,\n"
          ]
        },
        {
          "output_type": "stream",
          "name": "stdout",
          "text": [
            "Accuracy (at testing size = 0.4)\n",
            "0.0275\n",
            "Train confusion matrix\n",
            "[[319   0   0 ...   0   0   0]\n",
            " [  0 331   0 ...   0   0   0]\n",
            " [  0   0 358 ...   0   0   0]\n",
            " ...\n",
            " [  0   0   0 ... 344   0   0]\n",
            " [  0   0   0 ...   0 359   0]\n",
            " [  0   0   0 ...   0   0 325]]\n",
            "Test confusion matrix\n",
            "[[ 4  1  5 ...  9 10  5]\n",
            " [11  4  4 ...  7  3  5]\n",
            " [ 8  4  4 ...  6  7  7]\n",
            " ...\n",
            " [ 5  6  5 ...  9  6  5]\n",
            " [ 5  3  9 ...  4  7 11]\n",
            " [ 7  6  3 ...  4  4  2]]\n",
            "Train classwise accuracies\n",
            "[1. 1. 1. 1. 1. 1. 1. 1. 1. 1. 1. 1. 1. 1. 1. 1. 1. 1. 1. 1. 1. 1. 1. 1.\n",
            " 1. 1. 1. 1. 1. 1. 1. 1. 1. 1.]\n",
            "Test classwise accuracies\n",
            "[0.02116402 0.01970443 0.02094241 0.03153153 0.03043478 0.02678571\n",
            " 0.02586207 0.04330709 0.04385965 0.02941176 0.02008032 0.02222222\n",
            " 0.02030457 0.02202643 0.02620087 0.02       0.04411765 0.02564103\n",
            " 0.02973978 0.02830189 0.00809717 0.025      0.02790698 0.03375527\n",
            " 0.02222222 0.03508772 0.04583333 0.04568528 0.01716738 0.01716738\n",
            " 0.00970874 0.0376569  0.02651515 0.00917431]\n"
          ]
        }
      ]
    },
    {
      "cell_type": "code",
      "source": [
        "X22 = StandardScaler(with_mean=False).fit_transform(X_new)\n",
        "Y22 = Y.copy(deep=True)\n",
        "X22train, X22test, Y22train, Y22test = train_test_split(X22,Y22,test_size=0.4)\n",
        "m22 = MLPClassifier(random_state=1).fit(X22train,Y22train) \n",
        "a22 = accuracy_score(m22.predict(X22test),Y22test)\n",
        "print(\"Accuracy (after standardisation at testing size = 0.4)\")\n",
        "print(a22)\n",
        "m22.predict(X22test)\n",
        "cm22train = confusion_matrix(m22.predict(X22train),Y22train)\n",
        "cm22test = confusion_matrix(m22.predict(X22test),Y22test)\n",
        "print(\"Train confusion matrix\")\n",
        "print(cm22train)\n",
        "print(\"Test confusion matrix\")\n",
        "print(cm22test)\n",
        "print(\"Train classwise accuracies\")\n",
        "print(cm22train.diagonal()/cm22train.sum(axis=1))\n",
        "print(\"Test classwise accuracies\")\n",
        "print(cm22test.diagonal()/cm22test.sum(axis=1))"
      ],
      "metadata": {
        "colab": {
          "base_uri": "https://localhost:8080/"
        },
        "id": "q5-fx1F8cjp7",
        "outputId": "8adb029c-bfd5-447c-9f8e-e80b76cbc8ef"
      },
      "execution_count": null,
      "outputs": [
        {
          "output_type": "stream",
          "name": "stdout",
          "text": [
            "Accuracy (after standardisation at testing size = 0.4)\n",
            "0.02575\n",
            "Train confusion matrix\n",
            "[[332   0   0 ...   0   0   0]\n",
            " [  0 322   0 ...   0   0   0]\n",
            " [  0   0 331 ...   0   0   0]\n",
            " ...\n",
            " [  0   0   0 ... 346   0   0]\n",
            " [  0   0   0 ...   0 351   0]\n",
            " [  0   0   0 ...   0   0 342]]\n",
            "Test confusion matrix\n",
            "[[ 6  3  2 ... 10  5  6]\n",
            " [ 3  7  9 ...  7  7  8]\n",
            " [ 8  6  7 ...  7  6 11]\n",
            " ...\n",
            " [ 3  7  7 ...  4 11  6]\n",
            " [ 5  5 10 ...  8  8  7]\n",
            " [ 7  7  6 ...  4 12  5]]\n",
            "Train classwise accuracies\n",
            "[1. 1. 1. 1. 1. 1. 1. 1. 1. 1. 1. 1. 1. 1. 1. 1. 1. 1. 1. 1. 1. 1. 1. 1.\n",
            " 1. 1. 1. 1. 1. 1. 1. 1. 1. 1.]\n",
            "Test classwise accuracies\n",
            "[0.02926829 0.03301887 0.02966102 0.01515152 0.00478469 0.02192982\n",
            " 0.03652968 0.03030303 0.05797101 0.02074689 0.02912621 0.01687764\n",
            " 0.02030457 0.01333333 0.02024291 0.01408451 0.04661017 0.03076923\n",
            " 0.0376569  0.04830918 0.02136752 0.03097345 0.02830189 0.03076923\n",
            " 0.00813008 0.00492611 0.02608696 0.02714932 0.00913242 0.01515152\n",
            " 0.02590674 0.01777778 0.03225806 0.02212389]\n"
          ]
        }
      ]
    },
    {
      "cell_type": "code",
      "source": [
        "X23 = preprocessing.normalize(X_new)\n",
        "Y23 = Y.copy(deep=True)\n",
        "X23train, X23test, Y23train, Y23test = train_test_split(X23,Y23,test_size=0.4)\n",
        "m23 = MLPClassifier(random_state=1).fit(X23train,Y23train) \n",
        "a23 = accuracy_score(m13.predict(X23test),Y23test)\n",
        "print(\"Accuracy (after normalisation at testing size = 0.4)\")\n",
        "print(a23)\n",
        "m23.predict(X23test)\n",
        "cm23train = confusion_matrix(m23.predict(X23train),Y23train)\n",
        "cm23test = confusion_matrix(m23.predict(X23test),Y23test)\n",
        "print(\"Train confusion matrix\")\n",
        "print(cm23train)\n",
        "print(\"Test confusion matrix\")\n",
        "print(cm23test)\n",
        "print(\"Train classwise accuracies\")\n",
        "print(cm23train.diagonal()/cm23train.sum(axis=1))\n",
        "print(\"Test classwise accuracies\")\n",
        "print(cm23test.diagonal()/cm23test.sum(axis=1))"
      ],
      "metadata": {
        "colab": {
          "base_uri": "https://localhost:8080/"
        },
        "id": "8zWer6u6guq9",
        "outputId": "e51a8ea9-bc66-442c-ee17-1bcdacbba94c"
      },
      "execution_count": null,
      "outputs": [
        {
          "output_type": "stream",
          "name": "stderr",
          "text": [
            "/usr/local/lib/python3.7/dist-packages/sklearn/neural_network/_multilayer_perceptron.py:696: ConvergenceWarning: Stochastic Optimizer: Maximum iterations (200) reached and the optimization hasn't converged yet.\n",
            "  ConvergenceWarning,\n"
          ]
        },
        {
          "output_type": "stream",
          "name": "stdout",
          "text": [
            "Accuracy (after normalisation at testing size = 0.4)\n",
            "0.44025\n",
            "Train confusion matrix\n",
            "[[196   6   2 ...   2   5   2]\n",
            " [  2 182   1 ...   3   4   6]\n",
            " [  5   1 220 ...   6   1   3]\n",
            " ...\n",
            " [  4   3   1 ... 231   5   1]\n",
            " [  4   2   4 ...   1 199   0]\n",
            " [  5   3   8 ...   7   6 200]]\n",
            "Test confusion matrix\n",
            "[[ 3  5  3 ...  3  4  9]\n",
            " [ 7  5  8 ...  2  4  5]\n",
            " [ 5  5  6 ...  5  5  8]\n",
            " ...\n",
            " [11  2  3 ...  4  5  5]\n",
            " [ 7  7 12 ... 10  7  9]\n",
            " [ 8 11  4 ...  6 12  8]]\n",
            "Train classwise accuracies\n",
            "[0.67353952 0.63859649 0.625      0.58897243 0.56887755 0.67010309\n",
            " 0.60621762 0.62962963 0.62191781 0.65329513 0.59937888 0.71747212\n",
            " 0.61993769 0.63185379 0.71042471 0.61346633 0.67629179 0.64721485\n",
            " 0.61512027 0.64814815 0.63894967 0.66666667 0.62824207 0.64229765\n",
            " 0.66363636 0.65860215 0.57468354 0.64637681 0.57300275 0.61383285\n",
            " 0.603125   0.70858896 0.70070423 0.57142857]\n",
            "Test classwise accuracies\n",
            "[0.01522843 0.0273224  0.03333333 0.03100775 0.01449275 0.02232143\n",
            " 0.02730375 0.0349345  0.02661597 0.02631579 0.02105263 0.02762431\n",
            " 0.02898551 0.01777778 0.04046243 0.04494382 0.06292135 0.01581028\n",
            " 0.0255102  0.02040816 0.05090909 0.03125    0.01652893 0.00909091\n",
            " 0.0203252  0.01838235 0.02868852 0.01652893 0.02347418 0.01901141\n",
            " 0.01777778 0.01860465 0.03301887 0.03791469]\n"
          ]
        }
      ]
    },
    {
      "cell_type": "code",
      "source": [
        "X31train, X31test, Y31train, Y31test = train_test_split(X_new,Y_new,test_size=0.3)\n",
        "m31 = MLPClassifier(random_state=1).fit(X31train,Y31train) \n",
        "a31 = accuracy_score(m31.predict(X31test),Y31test)\n",
        "print(\"Accuracy (at testing size = 0.3)\")\n",
        "print(a31)\n",
        "m31.predict(X31test)\n",
        "cm31train = confusion_matrix(m31.predict(X31train),Y31train)\n",
        "cm31test = confusion_matrix(m31.predict(X31test),Y31test)\n",
        "print(\"Train confusion matrix\")\n",
        "print(cm31train)\n",
        "print(\"Test confusion matrix\")\n",
        "print(cm31test)\n",
        "print(\"Train classwise accuracies\")\n",
        "print(cm31train.diagonal()/cm31train.sum(axis=1))\n",
        "print(\"Test classwise accuracies\")\n",
        "print(cm31test.diagonal()/cm31test.sum(axis=1))"
      ],
      "metadata": {
        "colab": {
          "base_uri": "https://localhost:8080/"
        },
        "id": "Rr9yabJuHaMU",
        "outputId": "32b8f4aa-9acb-40a1-b99b-1dc13d20ee87"
      },
      "execution_count": null,
      "outputs": [
        {
          "output_type": "stream",
          "name": "stderr",
          "text": [
            "/usr/local/lib/python3.7/dist-packages/sklearn/neural_network/_multilayer_perceptron.py:696: ConvergenceWarning: Stochastic Optimizer: Maximum iterations (200) reached and the optimization hasn't converged yet.\n",
            "  ConvergenceWarning,\n"
          ]
        },
        {
          "output_type": "stream",
          "name": "stdout",
          "text": [
            "Accuracy (at testing size = 0.3)\n",
            "0.03333333333333333\n",
            "Train confusion matrix\n",
            "[[383   0   0 ...   0   0   0]\n",
            " [  0 363   0 ...   0   0   0]\n",
            " [  0   0 392 ...   0   0   0]\n",
            " ...\n",
            " [  0   0   0 ... 386   0   0]\n",
            " [  0   0   0 ...   0 408   0]\n",
            " [  0   0   0 ...   0   0 415]]\n",
            "Test confusion matrix\n",
            "[[5 2 2 ... 3 4 4]\n",
            " [5 3 6 ... 7 3 4]\n",
            " [3 6 9 ... 5 7 5]\n",
            " ...\n",
            " [4 7 3 ... 2 3 1]\n",
            " [4 3 2 ... 4 7 4]\n",
            " [5 6 8 ... 7 2 4]]\n",
            "Train classwise accuracies\n",
            "[0.99222798 0.99725275 0.98989899 0.98349057 0.9974359  0.99238579\n",
            " 1.         0.99271845 0.99259259 0.99514563 0.99742268 0.97826087\n",
            " 0.99502488 0.99292453 0.99472296 0.99767981 0.99609375 0.99342105\n",
            " 1.         1.         0.99516908 0.99493671 1.         0.99270073\n",
            " 1.         0.98062954 0.99244332 0.98979592 0.995      0.99210526\n",
            " 1.         0.99484536 0.99755501 0.98809524]\n",
            "Test classwise accuracies\n",
            "[0.03546099 0.01910828 0.05325444 0.01923077 0.00662252 0.03076923\n",
            " 0.04142012 0.03125    0.02808989 0.02234637 0.03773585 0.03015075\n",
            " 0.03448276 0.02380952 0.01234568 0.02453988 0.05735661 0.03763441\n",
            " 0.04469274 0.01973684 0.05882353 0.04458599 0.03184713 0.01829268\n",
            " 0.02702703 0.05232558 0.0297619  0.02209945 0.04371585 0.04188482\n",
            " 0.03571429 0.01290323 0.04575163 0.02      ]\n"
          ]
        }
      ]
    },
    {
      "cell_type": "code",
      "source": [
        "X32 = StandardScaler(with_mean=False).fit_transform(X_new)\n",
        "Y32 = Y.copy(deep=True)\n",
        "X32train, X32test, Y32train, Y32test = train_test_split(X32,Y32,test_size=0.3)\n",
        "m32 = MLPClassifier(random_state=1).fit(X32train,Y32train) \n",
        "a32 = accuracy_score(m32.predict(X32test),Y32test)\n",
        "print(\"Accuracy (after standardisation at testing size = 0.3)\")\n",
        "print(a32)\n",
        "m32.predict(X32test)\n",
        "cm32train = confusion_matrix(m32.predict(X32train),Y32train)\n",
        "cm32test = confusion_matrix(m32.predict(X32test),Y32test)\n",
        "print(\"Train confusion matrix\")\n",
        "print(cm32train)\n",
        "print(\"Test confusion matrix\")\n",
        "print(cm32test)\n",
        "print(\"Train classwise accuracies\")\n",
        "print(cm32train.diagonal()/cm32train.sum(axis=1))\n",
        "print(\"Test classwise accuracies\")\n",
        "print(cm32test.diagonal()/cm32test.sum(axis=1))"
      ],
      "metadata": {
        "colab": {
          "base_uri": "https://localhost:8080/"
        },
        "id": "rjQB_bENcn_i",
        "outputId": "1735c40a-9032-4c7b-ae9a-1b7040c93d17"
      },
      "execution_count": null,
      "outputs": [
        {
          "output_type": "stream",
          "name": "stderr",
          "text": [
            "/usr/local/lib/python3.7/dist-packages/sklearn/neural_network/_multilayer_perceptron.py:696: ConvergenceWarning: Stochastic Optimizer: Maximum iterations (200) reached and the optimization hasn't converged yet.\n",
            "  ConvergenceWarning,\n"
          ]
        },
        {
          "output_type": "stream",
          "name": "stdout",
          "text": [
            "Accuracy (after standardisation at testing size = 0.3)\n",
            "0.032\n",
            "Train confusion matrix\n",
            "[[388   0   0 ...   0   0   0]\n",
            " [  0 390   0 ...   0   0   0]\n",
            " [  0   0 407 ...   0   0   0]\n",
            " ...\n",
            " [  0   0   0 ... 399   0   0]\n",
            " [  0   0   0 ...   0 399   0]\n",
            " [  0   0   0 ...   0   0 403]]\n",
            "Test confusion matrix\n",
            "[[ 6  3  3 ... 10  3  4]\n",
            " [ 6  4  2 ...  2  3  1]\n",
            " [ 4  6  5 ...  6  5  4]\n",
            " ...\n",
            " [ 6  3  6 ...  5  3  7]\n",
            " [ 8  3  6 ...  6  5  5]\n",
            " [ 3  3  4 ...  4  9  4]]\n",
            "Train classwise accuracies\n",
            "[1. 1. 1. 1. 1. 1. 1. 1. 1. 1. 1. 1. 1. 1. 1. 1. 1. 1. 1. 1. 1. 1. 1. 1.\n",
            " 1. 1. 1. 1. 1. 1. 1. 1. 1. 1.]\n",
            "Test classwise accuracies\n",
            "[0.04137931 0.02564103 0.03267974 0.03067485 0.02873563 0.0375\n",
            " 0.02197802 0.03960396 0.02339181 0.03012048 0.03125    0.02068966\n",
            " 0.03414634 0.02873563 0.0397351  0.03255814 0.0545977  0.00990099\n",
            " 0.02843602 0.0472973  0.02941176 0.03125    0.03067485 0.03355705\n",
            " 0.03804348 0.03246753 0.03488372 0.03208556 0.05128205 0.01290323\n",
            " 0.02531646 0.02941176 0.02590674 0.02439024]\n"
          ]
        }
      ]
    },
    {
      "cell_type": "code",
      "source": [
        "X33 = preprocessing.normalize(X_new)\n",
        "Y33 = Y.copy(deep=True)\n",
        "X33train, X33test, Y33train, Y33test = train_test_split(X33,Y33,test_size=0.3)\n",
        "m33 = MLPClassifier(random_state=1).fit(X33train,Y33train) \n",
        "a33 = accuracy_score(m33.predict(X33test),Y33test)\n",
        "print(\"Accuracy (after normalisation at testing size = 0.3)\")\n",
        "print(a33)\n",
        "m33.predict(X33test)\n",
        "cm33train = confusion_matrix(m33.predict(X33train),Y33train)\n",
        "cm33test = confusion_matrix(m33.predict(X33test),Y33test)\n",
        "print(\"Train confusion matrix\")\n",
        "print(cm33train)\n",
        "print(\"Test confusion matrix\")\n",
        "print(cm33test)\n",
        "print(\"Train classwise accuracies\")\n",
        "print(cm33train.diagonal()/cm33train.sum(axis=1))\n",
        "print(\"Test classwise accuracies\")\n",
        "print(cm33test.diagonal()/cm33test.sum(axis=1))"
      ],
      "metadata": {
        "colab": {
          "base_uri": "https://localhost:8080/"
        },
        "id": "QEL1jvTvimqy",
        "outputId": "75541ce9-b193-4839-9509-c05c30831fd6"
      },
      "execution_count": null,
      "outputs": [
        {
          "output_type": "stream",
          "name": "stderr",
          "text": [
            "/usr/local/lib/python3.7/dist-packages/sklearn/neural_network/_multilayer_perceptron.py:696: ConvergenceWarning: Stochastic Optimizer: Maximum iterations (200) reached and the optimization hasn't converged yet.\n",
            "  ConvergenceWarning,\n"
          ]
        },
        {
          "output_type": "stream",
          "name": "stdout",
          "text": [
            "Accuracy (after normalisation at testing size = 0.3)\n",
            "0.03283333333333333\n",
            "Train confusion matrix\n",
            "[[244   3   6 ...   4   3   3]\n",
            " [  6 187   4 ...   5   6   1]\n",
            " [  4   6 213 ...   2   2   3]\n",
            " ...\n",
            " [  5   7   9 ... 234   3   7]\n",
            " [  6   5   2 ...   6 257   2]\n",
            " [  7   0   4 ...   3   4 269]]\n",
            "Test confusion matrix\n",
            "[[ 4  3  3 ...  6  4  8]\n",
            " [ 2  3  7 ...  3  6  5]\n",
            " [ 3  4  5 ...  1  5  0]\n",
            " ...\n",
            " [ 9  5  2 ...  6  6  7]\n",
            " [ 5  6  5 ...  6  6  5]\n",
            " [ 5  3  9 ... 10  6  1]]\n",
            "Train classwise accuracies\n",
            "[0.66304348 0.58805031 0.568      0.61904762 0.62258065 0.61111111\n",
            " 0.62365591 0.6160221  0.60050891 0.58910891 0.55048077 0.55227273\n",
            " 0.62237762 0.62019231 0.62992126 0.58139535 0.65990991 0.61576355\n",
            " 0.67365967 0.52997602 0.62192394 0.63443396 0.625      0.66666667\n",
            " 0.63317757 0.62085308 0.63243243 0.6039886  0.52718676 0.57783641\n",
            " 0.54950495 0.56796117 0.6489899  0.63443396]\n",
            "Test classwise accuracies\n",
            "[0.02312139 0.02142857 0.03378378 0.01459854 0.04285714 0.01156069\n",
            " 0.04444444 0.04968944 0.02061856 0.03773585 0.02906977 0.04571429\n",
            " 0.01020408 0.02209945 0.02547771 0.05       0.09411765 0.02072539\n",
            " 0.0195122  0.00617284 0.02673797 0.04069767 0.02380952 0.05921053\n",
            " 0.03389831 0.025      0.02597403 0.01197605 0.05102041 0.01807229\n",
            " 0.04255319 0.03488372 0.03296703 0.00578035]\n"
          ]
        }
      ]
    },
    {
      "cell_type": "code",
      "source": [
        "X41train, X41test, Y41train, Y41test = train_test_split(X_new,Y_new,test_size=0.1)\n",
        "m41 = MLPClassifier(random_state=1).fit(X41train,Y41train) \n",
        "a41 = accuracy_score(m41.predict(X41test),Y41test)\n",
        "print(\"Accuracy (at testing size = 0.1)\")\n",
        "print(a41)\n",
        "m41.predict(X41test)\n",
        "cm41train = confusion_matrix(m41.predict(X41train),Y41train)\n",
        "cm41test = confusion_matrix(m41.predict(X41test),Y41test)\n",
        "print(\"Train confusion matrix\")\n",
        "print(cm41train)\n",
        "print(\"Test confusion matrix\")\n",
        "print(cm41test)\n",
        "print(\"Train classwise accuracies\")\n",
        "print(cm41train.diagonal()/cm41train.sum(axis=1))\n",
        "print(\"Test classwise accuracies\")\n",
        "print(cm41test.diagonal()/cm41test.sum(axis=1))"
      ],
      "metadata": {
        "colab": {
          "base_uri": "https://localhost:8080/"
        },
        "id": "hK6EwM0BHn89",
        "outputId": "a2c9b249-222d-47f1-d631-d477819d22fc"
      },
      "execution_count": null,
      "outputs": [
        {
          "output_type": "stream",
          "name": "stderr",
          "text": [
            "/usr/local/lib/python3.7/dist-packages/sklearn/neural_network/_multilayer_perceptron.py:696: ConvergenceWarning: Stochastic Optimizer: Maximum iterations (200) reached and the optimization hasn't converged yet.\n",
            "  ConvergenceWarning,\n"
          ]
        },
        {
          "output_type": "stream",
          "name": "stdout",
          "text": [
            "Accuracy (at testing size = 0.1)\n",
            "0.0305\n",
            "Train confusion matrix\n",
            "[[391   9  11 ...   3   2   0]\n",
            " [  2 333   3 ...   2   5   1]\n",
            " [  6   1 379 ...   4   5   3]\n",
            " ...\n",
            " [  0   2   1 ... 398   2   3]\n",
            " [  2   2   1 ...   0 418   7]\n",
            " [  1   2   5 ...   5   2 422]]\n",
            "Test confusion matrix\n",
            "[[0 2 3 ... 1 0 1]\n",
            " [1 0 2 ... 0 0 2]\n",
            " [1 1 1 ... 3 1 0]\n",
            " ...\n",
            " [2 2 0 ... 4 0 2]\n",
            " [2 0 2 ... 2 2 2]\n",
            " [2 1 0 ... 2 1 3]]\n",
            "Train classwise accuracies\n",
            "[0.76516634 0.76905312 0.7814433  0.74813433 0.86526316 0.775\n",
            " 0.84072581 0.76111111 0.82527881 0.74019608 0.85169492 0.86397985\n",
            " 0.77559913 0.85840708 0.83992095 0.83531746 0.83975482 0.80687398\n",
            " 0.84601449 0.83027523 0.87873134 0.84507042 0.80888031 0.78606159\n",
            " 0.85774059 0.78983051 0.81765835 0.84117647 0.88139059 0.77229602\n",
            " 0.83157895 0.85775862 0.88372093 0.88842105]\n",
            "Test classwise accuracies\n",
            "[0.         0.         0.02777778 0.01785714 0.07692308 0.05333333\n",
            " 0.01923077 0.02941176 0.01515152 0.04081633 0.01492537 0.\n",
            " 0.03703704 0.         0.         0.06779661 0.03896104 0.03333333\n",
            " 0.01923077 0.04545455 0.01388889 0.03448276 0.01886792 0.01886792\n",
            " 0.08       0.02409639 0.         0.01785714 0.04255319 0.03174603\n",
            " 0.03076923 0.06666667 0.03278689 0.05357143]\n"
          ]
        }
      ]
    },
    {
      "cell_type": "code",
      "source": [
        "X42 = StandardScaler(with_mean=False).fit_transform(X_new)\n",
        "Y42 = Y.copy(deep=True)\n",
        "X42train, X42test, Y42train, Y42test = train_test_split(X42,Y42,test_size=0.1)\n",
        "m42= MLPClassifier(random_state=1).fit(X42train,Y42train) \n",
        "a42 = accuracy_score(m42.predict(X42test),Y42test)\n",
        "print(\"Accuracy (after standardisation at testing size = 0.1)\")\n",
        "print(a42)\n",
        "m42.predict(X42test)\n",
        "cm42train = confusion_matrix(m42.predict(X42train),Y42train)\n",
        "cm42test = confusion_matrix(m42.predict(X42test),Y42test)\n",
        "print(\"Train confusion matrix\")\n",
        "print(cm42train)\n",
        "print(\"Test confusion matrix\")\n",
        "print(cm42test)\n",
        "print(\"Train classwise accuracies\")\n",
        "print(cm42train.diagonal()/cm42train.sum(axis=1))\n",
        "print(\"Test classwise accuracies\")\n",
        "print(cm42test.diagonal()/cm42test.sum(axis=1))"
      ],
      "metadata": {
        "colab": {
          "base_uri": "https://localhost:8080/"
        },
        "id": "Hzxd4yIzOqHI",
        "outputId": "e1908cc4-34d7-4b2a-a423-78d0cd16f714"
      },
      "execution_count": null,
      "outputs": [
        {
          "output_type": "stream",
          "name": "stderr",
          "text": [
            "/usr/local/lib/python3.7/dist-packages/sklearn/neural_network/_multilayer_perceptron.py:696: ConvergenceWarning: Stochastic Optimizer: Maximum iterations (200) reached and the optimization hasn't converged yet.\n",
            "  ConvergenceWarning,\n"
          ]
        },
        {
          "output_type": "stream",
          "name": "stdout",
          "text": [
            "Accuracy (after standardisation at testing size = 0.1)\n",
            "0.036\n",
            "Train confusion matrix\n",
            "[[496   0   0 ...   0   0   0]\n",
            " [  0 486   0 ...   0   0   0]\n",
            " [  0   0 521 ...   0   0   0]\n",
            " ...\n",
            " [  0   1   0 ... 513   0   0]\n",
            " [  0   0   0 ...   0 532   0]\n",
            " [  0   1   0 ...   0   0 512]]\n",
            "Test confusion matrix\n",
            "[[5 1 2 ... 0 2 2]\n",
            " [0 1 1 ... 1 3 0]\n",
            " [1 0 1 ... 1 1 1]\n",
            " ...\n",
            " [2 1 2 ... 2 1 3]\n",
            " [2 3 0 ... 1 1 4]\n",
            " [0 1 0 ... 3 3 3]]\n",
            "Train classwise accuracies\n",
            "[0.99798793 1.         0.99427481 0.99619772 0.9922179  0.99610895\n",
            " 0.99451554 1.         0.99607843 0.99808429 0.99794239 0.99168399\n",
            " 1.         0.99812734 0.99790356 1.         0.99899295 0.9965338\n",
            " 0.99812734 0.99575372 1.         0.99807322 0.99435028 1.\n",
            " 0.99808061 1.         0.99807692 1.         0.99603175 1.\n",
            " 0.99798793 0.99418605 0.99812383 0.99805068]\n",
            "Test classwise accuracies\n",
            "[0.10416667 0.02222222 0.02222222 0.         0.         0.01538462\n",
            " 0.03703704 0.         0.06451613 0.01538462 0.03571429 0.09803922\n",
            " 0.08510638 0.03703704 0.05128205 0.05263158 0.05050505 0.05\n",
            " 0.03076923 0.03921569 0.08571429 0.         0.04166667 0.\n",
            " 0.02040816 0.04166667 0.03125    0.02272727 0.01851852 0.04225352\n",
            " 0.0212766  0.03225806 0.01204819 0.04918033]\n"
          ]
        }
      ]
    },
    {
      "cell_type": "code",
      "source": [
        "X43 = preprocessing.normalize(X_new)\n",
        "Y43 = Y.copy(deep=True)\n",
        "X43train, X43test, Y43train, Y43test = train_test_split(X43,Y43,test_size=0.1)\n",
        "m43 = MLPClassifier(random_state=1).fit(X43train,Y43train) \n",
        "a43 = accuracy_score(m43.predict(X43test),Y43test)\n",
        "print(\"Accuracy (after normalisation at testing size = 0.1)\")\n",
        "print(a43)\n",
        "m43.predict(X43test)\n",
        "cm43train = confusion_matrix(m43.predict(X43train),Y43train)\n",
        "cm43test = confusion_matrix(m43.predict(X43test),Y43test)\n",
        "print(\"Train confusion matrix\")\n",
        "print(cm43train)\n",
        "print(\"Test confusion matrix\")\n",
        "print(cm43test)\n",
        "print(\"Train classwise accuracies\")\n",
        "print(cm43train.diagonal()/cm43train.sum(axis=1))\n",
        "print(\"Test classwise accuracies\")\n",
        "print(cm43test.diagonal()/cm43test.sum(axis=1))"
      ],
      "metadata": {
        "colab": {
          "base_uri": "https://localhost:8080/"
        },
        "id": "1l1Gc7SSkYB3",
        "outputId": "6b395d27-dc9c-43ab-cb80-3eff2395834d"
      },
      "execution_count": null,
      "outputs": [
        {
          "output_type": "stream",
          "name": "stderr",
          "text": [
            "/usr/local/lib/python3.7/dist-packages/sklearn/neural_network/_multilayer_perceptron.py:696: ConvergenceWarning: Stochastic Optimizer: Maximum iterations (200) reached and the optimization hasn't converged yet.\n",
            "  ConvergenceWarning,\n"
          ]
        },
        {
          "output_type": "stream",
          "name": "stdout",
          "text": [
            "Accuracy (after normalisation at testing size = 0.1)\n",
            "0.029\n",
            "Train confusion matrix\n",
            "[[230   6   2 ...   5   3   2]\n",
            " [  8 197   1 ...   7   3   0]\n",
            " [  5   8 246 ...   7   5   7]\n",
            " ...\n",
            " [  4   7   8 ... 277   5   5]\n",
            " [  5   8   3 ...   8 271   6]\n",
            " [  5   7   9 ...   8   8 336]]\n",
            "Test confusion matrix\n",
            "[[3 2 1 ... 1 0 0]\n",
            " [0 0 0 ... 1 1 1]\n",
            " [1 2 0 ... 1 2 1]\n",
            " ...\n",
            " [1 0 2 ... 0 1 2]\n",
            " [1 0 1 ... 2 2 5]\n",
            " [1 2 2 ... 2 0 2]]\n",
            "Train classwise accuracies\n",
            "[0.54117647 0.52116402 0.53131749 0.48019802 0.49458484 0.46761134\n",
            " 0.50090416 0.50088183 0.59292035 0.57081545 0.55313351 0.45328032\n",
            " 0.51869159 0.50561798 0.51982379 0.4920354  0.50257542 0.53598485\n",
            " 0.55760369 0.52864583 0.4985755  0.56435644 0.50346021 0.50943396\n",
            " 0.51549755 0.48972603 0.445      0.50863724 0.53934741 0.5625\n",
            " 0.56650246 0.54207436 0.54637097 0.52418097]\n",
            "Test classwise accuracies\n",
            "[0.04918033 0.         0.         0.         0.01694915 0.03076923\n",
            " 0.03333333 0.01408451 0.         0.01960784 0.03571429 0.02325581\n",
            " 0.05555556 0.         0.02439024 0.01694915 0.05797101 0.01587302\n",
            " 0.01785714 0.04       0.05405405 0.04166667 0.08333333 0.03389831\n",
            " 0.04166667 0.03030303 0.01219512 0.04615385 0.         0.01612903\n",
            " 0.06382979 0.         0.03225806 0.02985075]\n"
          ]
        }
      ]
    },
    {
      "cell_type": "code",
      "source": [
        "y1 = Y.copy(deep=True)"
      ],
      "metadata": {
        "id": "V4y5TWrPsch6"
      },
      "execution_count": null,
      "outputs": []
    },
    {
      "cell_type": "code",
      "source": [
        "y1 = y1.replace(['Project Manager','Information Technology Manager','Database Manager'],'Manager')\n",
        "y1 = y1.replace(['Business Systems Analyst','Business Intelligence Analyst','E-Commerce Analyst','Information Security Analyst','Systems Analyst','CRM Business Analyst','Programmer Analyst'],'Analyst')\n",
        "y1 = y1.replace(['Mobile Applications Developer','Web Developer','Software Developer','Applications Developer','CRM Technical Developer','Database Developer'],'Developer')\n",
        "y1 = y1.replace(['UX Designer','Design & UX'] , 'UX/Design')\n",
        "y1 = y1.replace(['Database Administrator','Portal Administrator','Network Security Administrator','Systems Security Administrator'] , 'Administrator')\n",
        "y1 = y1.replace(['Software Quality Assurance (QA) / Testing','Quality Assurance Associate','Solutions Architect','Data Architect','Information Technology Auditor'],'others')\n",
        "y1 = y1.replace(['Technical Engineer','Technical Services/Help Desk/Tech Support','Technical Support'],'Technical')\n",
        "y1 = y1.replace(['Network Security Engineer','Network Engineer','Software Systems Engineer','Software Engineer'],'Engineer')\n"
      ],
      "metadata": {
        "id": "AIk_rmW2swR-"
      },
      "execution_count": null,
      "outputs": []
    },
    {
      "cell_type": "code",
      "source": [
        "X5train, X5test, Y5train, Y5test = train_test_split(X_new,y1,test_size=0.1)\n",
        "m5 = MLPClassifier(random_state=1).fit(X5train,Y5train) \n",
        "a5 = accuracy_score(m5.predict(X5test),Y5test)\n",
        "print(\"Accuracy (at testing size = 0.1)\")\n",
        "print(a5)"
      ],
      "metadata": {
        "colab": {
          "base_uri": "https://localhost:8080/"
        },
        "id": "l-gzPzeSvtco",
        "outputId": "b78b1428-e903-410e-ff75-ed720ad05723"
      },
      "execution_count": null,
      "outputs": [
        {
          "output_type": "stream",
          "name": "stdout",
          "text": [
            "Accuracy (at testing size = 0.1)\n",
            "0.14\n"
          ]
        },
        {
          "output_type": "stream",
          "name": "stderr",
          "text": [
            "/usr/local/lib/python3.7/dist-packages/sklearn/neural_network/_multilayer_perceptron.py:696: ConvergenceWarning: Stochastic Optimizer: Maximum iterations (200) reached and the optimization hasn't converged yet.\n",
            "  ConvergenceWarning,\n"
          ]
        }
      ]
    },
    {
      "cell_type": "code",
      "source": [
        "df.columns"
      ],
      "metadata": {
        "colab": {
          "base_uri": "https://localhost:8080/"
        },
        "id": "7rdReM0wzhbX",
        "outputId": "415695cd-6158-432c-f699-797da40fcd74"
      },
      "execution_count": null,
      "outputs": [
        {
          "output_type": "execute_result",
          "data": {
            "text/plain": [
              "Index(['Acedamic percentage in Operating Systems', 'percentage in Algorithms',\n",
              "       'Percentage in Programming Concepts',\n",
              "       'Percentage in Software Engineering', 'Percentage in Computer Networks',\n",
              "       'Percentage in Electronics Subjects',\n",
              "       'Percentage in Computer Architecture', 'Percentage in Mathematics',\n",
              "       'Percentage in Communication skills', 'Hours working per day',\n",
              "       'Logical quotient rating', 'hackathons', 'coding skills rating',\n",
              "       'public speaking points', 'can work long time before system?',\n",
              "       'self-learning capability?', 'Extra-courses did', 'certifications',\n",
              "       'workshops', 'talenttests taken?', 'olympiads',\n",
              "       'reading and writing skills', 'memory capability score',\n",
              "       'Interested subjects', 'interested career area ', 'Job/Higher Studies?',\n",
              "       'Type of company want to settle in?',\n",
              "       'Taken inputs from seniors or elders', 'interested in games',\n",
              "       'Interested Type of Books', 'Salary Range Expected',\n",
              "       'In a Realtionship?', 'Gentle or Tuff behaviour?',\n",
              "       'Management or Technical', 'Salary/work', 'hard/smart worker',\n",
              "       'worked in teams ever?', 'Introvert', 'Suggested Job Role'],\n",
              "      dtype='object')"
            ]
          },
          "metadata": {},
          "execution_count": 70
        }
      ]
    },
    {
      "cell_type": "code",
      "source": [
        "record = df.rename(columns = {'Acedamic percentage in Operating Systems':'Acedamic percentage in Machine Learning','percentage in Algorithms'\n",
        ":'percentage in Signal Processing','Percentage in Programming Concepts':'Percentage in Image Processing','Percentage in Electronics Subjects'\n",
        ":'Percentage in Big data mining in healthcare','Percentage in Communication skills':'Percentage in Convex Optimization'})"
      ],
      "metadata": {
        "id": "wWwwzj1ux459"
      },
      "execution_count": null,
      "outputs": []
    },
    {
      "cell_type": "code",
      "source": [
        "record.columns\n"
      ],
      "metadata": {
        "colab": {
          "base_uri": "https://localhost:8080/"
        },
        "id": "4cRfaWG51R5S",
        "outputId": "94f8e0e3-18bf-4e87-891c-dfd6708a4840"
      },
      "execution_count": null,
      "outputs": [
        {
          "output_type": "execute_result",
          "data": {
            "text/plain": [
              "Index(['Acedamic percentage in Machine Learning',\n",
              "       'percentage in Signal Processing', 'Percentage in Image Processing',\n",
              "       'Percentage in Software Engineering', 'Percentage in Computer Networks',\n",
              "       'Percentage in Big data mining in healthcare',\n",
              "       'Percentage in Computer Architecture', 'Percentage in Mathematics',\n",
              "       'Percentage in Convex Optimization', 'Hours working per day',\n",
              "       'Logical quotient rating', 'hackathons', 'coding skills rating',\n",
              "       'public speaking points', 'can work long time before system?',\n",
              "       'self-learning capability?', 'Extra-courses did', 'certifications',\n",
              "       'workshops', 'talenttests taken?', 'olympiads',\n",
              "       'reading and writing skills', 'memory capability score',\n",
              "       'Interested subjects', 'interested career area ', 'Job/Higher Studies?',\n",
              "       'Type of company want to settle in?',\n",
              "       'Taken inputs from seniors or elders', 'interested in games',\n",
              "       'Interested Type of Books', 'Salary Range Expected',\n",
              "       'In a Realtionship?', 'Gentle or Tuff behaviour?',\n",
              "       'Management or Technical', 'Salary/work', 'hard/smart worker',\n",
              "       'worked in teams ever?', 'Introvert', 'Suggested Job Role'],\n",
              "      dtype='object')"
            ]
          },
          "metadata": {},
          "execution_count": 72
        }
      ]
    },
    {
      "cell_type": "code",
      "source": [
        "X6 = record.iloc[:,:-1]\n",
        "X6_new = OneHotEncoder().fit_transform(X6)\n",
        "Y6_new = Y.copy(deep=True)\n",
        "X6train, X6test, Y6train, Y6test = train_test_split(X6_new,y1,test_size=0.1)\n",
        "m6 = MLPClassifier(random_state=1).fit(X6train,Y6train) \n",
        "a6 = accuracy_score(m6.predict(X6test),Y6test)\n",
        "print(\"Accuracy (at testing size = 0.1)\")\n",
        "print(a6)"
      ],
      "metadata": {
        "colab": {
          "base_uri": "https://localhost:8080/"
        },
        "id": "RuKSL9bJ2KE3",
        "outputId": "28f67370-13f9-4f5c-96cc-2f85daa3c8fe"
      },
      "execution_count": null,
      "outputs": [
        {
          "output_type": "stream",
          "name": "stdout",
          "text": [
            "Accuracy (at testing size = 0.1)\n",
            "0.1415\n"
          ]
        },
        {
          "output_type": "stream",
          "name": "stderr",
          "text": [
            "/usr/local/lib/python3.7/dist-packages/sklearn/neural_network/_multilayer_perceptron.py:696: ConvergenceWarning: Stochastic Optimizer: Maximum iterations (200) reached and the optimization hasn't converged yet.\n",
            "  ConvergenceWarning,\n"
          ]
        }
      ]
    }
  ]
}